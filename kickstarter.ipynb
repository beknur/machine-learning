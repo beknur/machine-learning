{
  "nbformat": 4,
  "nbformat_minor": 0,
  "metadata": {
    "colab": {
      "name": "kickstarter.ipynb",
      "provenance": [],
      "collapsed_sections": [],
      "include_colab_link": true
    },
    "kernelspec": {
      "name": "python3",
      "display_name": "Python 3"
    }
  },
  "cells": [
    {
      "cell_type": "markdown",
      "metadata": {
        "id": "view-in-github",
        "colab_type": "text"
      },
      "source": [
        "<a href=\"https://colab.research.google.com/github/beknur/machine-learning/blob/master/kickstarter.ipynb\" target=\"_parent\"><img src=\"https://colab.research.google.com/assets/colab-badge.svg\" alt=\"Open In Colab\"/></a>"
      ]
    },
    {
      "cell_type": "code",
      "metadata": {
        "id": "fbhw6GQWcoAH",
        "colab_type": "code",
        "outputId": "1eb42b5f-f978-4a89-d0d1-b5db7d84427d",
        "colab": {
          "base_uri": "https://localhost:8080/",
          "height": 17
        }
      },
      "source": [
        "import numpy as np\n",
        "import pandas as pd\n",
        "import seaborn as sns\n",
        "import matplotlib.pyplot as plt\n",
        "\n",
        "import plotly.offline as py\n",
        "py.init_notebook_mode(connected=True)\n",
        "import plotly.graph_objs as go\n",
        "import plotly.figure_factory as ff\n",
        "\n",
        "from datetime import datetime\n",
        "from sklearn import linear_model\n",
        "from sklearn.linear_model import LogisticRegression\n",
        "from sklearn.model_selection import train_test_split\n",
        "from sklearn.preprocessing import StandardScaler\n",
        "from sklearn.decomposition import PCA \n",
        "from sklearn import ensemble\n",
        "from sklearn.model_selection import cross_val_score\n",
        "from sklearn.feature_selection import RFE\n",
        "from sklearn.ensemble import AdaBoostClassifier\n",
        "from sklearn.tree import DecisionTreeClassifier"
      ],
      "execution_count": 78,
      "outputs": [
        {
          "output_type": "display_data",
          "data": {
            "text/html": [
              "        <script type=\"text/javascript\">\n",
              "        window.PlotlyConfig = {MathJaxConfig: 'local'};\n",
              "        if (window.MathJax) {MathJax.Hub.Config({SVG: {font: \"STIX-Web\"}});}\n",
              "        if (typeof require !== 'undefined') {\n",
              "        require.undef(\"plotly\");\n",
              "        requirejs.config({\n",
              "            paths: {\n",
              "                'plotly': ['https://cdn.plot.ly/plotly-latest.min']\n",
              "            }\n",
              "        });\n",
              "        require(['plotly'], function(Plotly) {\n",
              "            window._Plotly = Plotly;\n",
              "        });\n",
              "        }\n",
              "        </script>\n",
              "        "
            ]
          },
          "metadata": {
            "tags": []
          }
        }
      ]
    },
    {
      "cell_type": "code",
      "metadata": {
        "id": "7U1E9blLcvng",
        "colab_type": "code",
        "colab": {
          "base_uri": "https://localhost:8080/",
          "height": 51
        },
        "outputId": "528b3c41-f2b6-4088-a5ca-98cb9e01c17f"
      },
      "source": [
        "projects = pd.read_csv('ks-projects-201801.csv')\n",
        "print(\"all=>\",len(projects))\n",
        "projects = projects[(projects['state'] == 'failed') | (projects['state'] == 'successful')]\n",
        "print(\"success & failed projects=>\", len(projects))\n",
        "projectsFailed = projects[(projects['state'] == 'failed')]\n",
        "projectsSuccess = projects[(projects['state'] == 'successful')]"
      ],
      "execution_count": 216,
      "outputs": [
        {
          "output_type": "stream",
          "text": [
            "all=> 378661\n",
            "success & failed projects=> 331675\n"
          ],
          "name": "stdout"
        }
      ]
    },
    {
      "cell_type": "code",
      "metadata": {
        "id": "OFYfvbCYtXom",
        "colab_type": "code",
        "colab": {
          "base_uri": "https://localhost:8080/",
          "height": 496
        },
        "outputId": "5dfbdf7e-15d1-424e-c58f-f0d3bb5e869b"
      },
      "source": [
        "print(\"Count failed projects: \", len(projectsFailed) , \", Count success projects: \", len(projectsSuccess))\n",
        "projects.head()"
      ],
      "execution_count": 80,
      "outputs": [
        {
          "output_type": "stream",
          "text": [
            "Count failed projects:  197719 , Count success projects:  133956\n"
          ],
          "name": "stdout"
        },
        {
          "output_type": "execute_result",
          "data": {
            "text/html": [
              "<div>\n",
              "<style scoped>\n",
              "    .dataframe tbody tr th:only-of-type {\n",
              "        vertical-align: middle;\n",
              "    }\n",
              "\n",
              "    .dataframe tbody tr th {\n",
              "        vertical-align: top;\n",
              "    }\n",
              "\n",
              "    .dataframe thead th {\n",
              "        text-align: right;\n",
              "    }\n",
              "</style>\n",
              "<table border=\"1\" class=\"dataframe\">\n",
              "  <thead>\n",
              "    <tr style=\"text-align: right;\">\n",
              "      <th></th>\n",
              "      <th>ID</th>\n",
              "      <th>name</th>\n",
              "      <th>category</th>\n",
              "      <th>main_category</th>\n",
              "      <th>currency</th>\n",
              "      <th>deadline</th>\n",
              "      <th>goal</th>\n",
              "      <th>launched</th>\n",
              "      <th>pledged</th>\n",
              "      <th>state</th>\n",
              "      <th>backers</th>\n",
              "      <th>country</th>\n",
              "      <th>usd pledged</th>\n",
              "      <th>usd_pledged_real</th>\n",
              "      <th>usd_goal_real</th>\n",
              "    </tr>\n",
              "  </thead>\n",
              "  <tbody>\n",
              "    <tr>\n",
              "      <th>0</th>\n",
              "      <td>1000002330</td>\n",
              "      <td>The Songs of Adelaide &amp; Abullah</td>\n",
              "      <td>Poetry</td>\n",
              "      <td>Publishing</td>\n",
              "      <td>GBP</td>\n",
              "      <td>2015-10-09</td>\n",
              "      <td>1000.0</td>\n",
              "      <td>2015-08-11 12:12:28</td>\n",
              "      <td>0.0</td>\n",
              "      <td>failed</td>\n",
              "      <td>0</td>\n",
              "      <td>GB</td>\n",
              "      <td>0.0</td>\n",
              "      <td>0.0</td>\n",
              "      <td>1533.95</td>\n",
              "    </tr>\n",
              "    <tr>\n",
              "      <th>1</th>\n",
              "      <td>1000003930</td>\n",
              "      <td>Greeting From Earth: ZGAC Arts Capsule For ET</td>\n",
              "      <td>Narrative Film</td>\n",
              "      <td>Film &amp; Video</td>\n",
              "      <td>USD</td>\n",
              "      <td>2017-11-01</td>\n",
              "      <td>30000.0</td>\n",
              "      <td>2017-09-02 04:43:57</td>\n",
              "      <td>2421.0</td>\n",
              "      <td>failed</td>\n",
              "      <td>15</td>\n",
              "      <td>US</td>\n",
              "      <td>100.0</td>\n",
              "      <td>2421.0</td>\n",
              "      <td>30000.00</td>\n",
              "    </tr>\n",
              "    <tr>\n",
              "      <th>2</th>\n",
              "      <td>1000004038</td>\n",
              "      <td>Where is Hank?</td>\n",
              "      <td>Narrative Film</td>\n",
              "      <td>Film &amp; Video</td>\n",
              "      <td>USD</td>\n",
              "      <td>2013-02-26</td>\n",
              "      <td>45000.0</td>\n",
              "      <td>2013-01-12 00:20:50</td>\n",
              "      <td>220.0</td>\n",
              "      <td>failed</td>\n",
              "      <td>3</td>\n",
              "      <td>US</td>\n",
              "      <td>220.0</td>\n",
              "      <td>220.0</td>\n",
              "      <td>45000.00</td>\n",
              "    </tr>\n",
              "    <tr>\n",
              "      <th>3</th>\n",
              "      <td>1000007540</td>\n",
              "      <td>ToshiCapital Rekordz Needs Help to Complete Album</td>\n",
              "      <td>Music</td>\n",
              "      <td>Music</td>\n",
              "      <td>USD</td>\n",
              "      <td>2012-04-16</td>\n",
              "      <td>5000.0</td>\n",
              "      <td>2012-03-17 03:24:11</td>\n",
              "      <td>1.0</td>\n",
              "      <td>failed</td>\n",
              "      <td>1</td>\n",
              "      <td>US</td>\n",
              "      <td>1.0</td>\n",
              "      <td>1.0</td>\n",
              "      <td>5000.00</td>\n",
              "    </tr>\n",
              "    <tr>\n",
              "      <th>5</th>\n",
              "      <td>1000014025</td>\n",
              "      <td>Monarch Espresso Bar</td>\n",
              "      <td>Restaurants</td>\n",
              "      <td>Food</td>\n",
              "      <td>USD</td>\n",
              "      <td>2016-04-01</td>\n",
              "      <td>50000.0</td>\n",
              "      <td>2016-02-26 13:38:27</td>\n",
              "      <td>52375.0</td>\n",
              "      <td>successful</td>\n",
              "      <td>224</td>\n",
              "      <td>US</td>\n",
              "      <td>52375.0</td>\n",
              "      <td>52375.0</td>\n",
              "      <td>50000.00</td>\n",
              "    </tr>\n",
              "  </tbody>\n",
              "</table>\n",
              "</div>"
            ],
            "text/plain": [
              "           ID  ... usd_goal_real\n",
              "0  1000002330  ...       1533.95\n",
              "1  1000003930  ...      30000.00\n",
              "2  1000004038  ...      45000.00\n",
              "3  1000007540  ...       5000.00\n",
              "5  1000014025  ...      50000.00\n",
              "\n",
              "[5 rows x 15 columns]"
            ]
          },
          "metadata": {
            "tags": []
          },
          "execution_count": 80
        }
      ]
    },
    {
      "cell_type": "code",
      "metadata": {
        "id": "pZXC30i5LoYW",
        "colab_type": "code",
        "colab": {
          "base_uri": "https://localhost:8080/",
          "height": 566
        },
        "outputId": "f942ca3e-bc57-498b-bab2-44963086e4a2"
      },
      "source": [
        "sns.set_style('whitegrid')\n",
        "mains = projects.main_category.value_counts().head(15)\n",
        "x = mains.values\n",
        "y = mains.index\n",
        "\n",
        "fig = plt.figure(dpi=150)\n",
        "ax = fig.add_subplot(111)\n",
        "ax = sns.barplot(y=y, x=x, orient='h', palette=\"dark\", alpha=0.8)\n",
        "plt.title('Kickstarter Top 15 Category')\n",
        "plt.show()"
      ],
      "execution_count": 217,
      "outputs": [
        {
          "output_type": "display_data",
          "data": {
            "image/png": "[encoded data removed]",
            "text/plain": [
              "<Figure size 900x600 with 1 Axes>"
            ]
          },
          "metadata": {
            "tags": []
          }
        }
      ]
    },
    {
      "cell_type": "code",
      "metadata": {
        "id": "twFqL-X0TSF6",
        "colab_type": "code",
        "colab": {
          "base_uri": "https://localhost:8080/",
          "height": 545
        },
        "outputId": "7b661b3e-feae-436f-fb4a-40a7c232ed70"
      },
      "source": [
        "total_projects = projects[['ID', 'main_category']].groupby(['main_category']).count().sort_values('ID', ascending=False)\n",
        "grouped = projects[['name', 'main_category', 'state']].groupby(['main_category', 'state']).count()\n",
        "total = total_projects[['ID']].rename(columns={'ID': 'total'})\n",
        "final_df = grouped.join(total, on='main_category').sort_values('total', ascending=False)\n",
        "final_df.head(15)"
      ],
      "execution_count": 182,
      "outputs": [
        {
          "output_type": "execute_result",
          "data": {
            "text/html": [
              "<div>\n",
              "<style scoped>\n",
              "    .dataframe tbody tr th:only-of-type {\n",
              "        vertical-align: middle;\n",
              "    }\n",
              "\n",
              "    .dataframe tbody tr th {\n",
              "        vertical-align: top;\n",
              "    }\n",
              "\n",
              "    .dataframe thead th {\n",
              "        text-align: right;\n",
              "    }\n",
              "</style>\n",
              "<table border=\"1\" class=\"dataframe\">\n",
              "  <thead>\n",
              "    <tr style=\"text-align: right;\">\n",
              "      <th></th>\n",
              "      <th></th>\n",
              "      <th>name</th>\n",
              "      <th>total</th>\n",
              "    </tr>\n",
              "    <tr>\n",
              "      <th>main_category</th>\n",
              "      <th>state</th>\n",
              "      <th></th>\n",
              "      <th></th>\n",
              "    </tr>\n",
              "  </thead>\n",
              "  <tbody>\n",
              "    <tr>\n",
              "      <th rowspan=\"2\" valign=\"top\">Film &amp; Video</th>\n",
              "      <th>failed</th>\n",
              "      <td>32903</td>\n",
              "      <td>56527</td>\n",
              "    </tr>\n",
              "    <tr>\n",
              "      <th>successful</th>\n",
              "      <td>23623</td>\n",
              "      <td>56527</td>\n",
              "    </tr>\n",
              "    <tr>\n",
              "      <th rowspan=\"2\" valign=\"top\">Music</th>\n",
              "      <th>successful</th>\n",
              "      <td>24197</td>\n",
              "      <td>45949</td>\n",
              "    </tr>\n",
              "    <tr>\n",
              "      <th>failed</th>\n",
              "      <td>21752</td>\n",
              "      <td>45949</td>\n",
              "    </tr>\n",
              "    <tr>\n",
              "      <th rowspan=\"2\" valign=\"top\">Publishing</th>\n",
              "      <th>successful</th>\n",
              "      <td>12300</td>\n",
              "      <td>35445</td>\n",
              "    </tr>\n",
              "    <tr>\n",
              "      <th>failed</th>\n",
              "      <td>23145</td>\n",
              "      <td>35445</td>\n",
              "    </tr>\n",
              "    <tr>\n",
              "      <th rowspan=\"2\" valign=\"top\">Games</th>\n",
              "      <th>successful</th>\n",
              "      <td>12518</td>\n",
              "      <td>28521</td>\n",
              "    </tr>\n",
              "    <tr>\n",
              "      <th>failed</th>\n",
              "      <td>16002</td>\n",
              "      <td>28521</td>\n",
              "    </tr>\n",
              "    <tr>\n",
              "      <th rowspan=\"2\" valign=\"top\">Technology</th>\n",
              "      <th>successful</th>\n",
              "      <td>6434</td>\n",
              "      <td>27050</td>\n",
              "    </tr>\n",
              "    <tr>\n",
              "      <th>failed</th>\n",
              "      <td>20616</td>\n",
              "      <td>27050</td>\n",
              "    </tr>\n",
              "    <tr>\n",
              "      <th rowspan=\"2\" valign=\"top\">Art</th>\n",
              "      <th>failed</th>\n",
              "      <td>14130</td>\n",
              "      <td>25641</td>\n",
              "    </tr>\n",
              "    <tr>\n",
              "      <th>successful</th>\n",
              "      <td>11510</td>\n",
              "      <td>25641</td>\n",
              "    </tr>\n",
              "    <tr>\n",
              "      <th rowspan=\"2\" valign=\"top\">Design</th>\n",
              "      <th>failed</th>\n",
              "      <td>14814</td>\n",
              "      <td>25364</td>\n",
              "    </tr>\n",
              "    <tr>\n",
              "      <th>successful</th>\n",
              "      <td>10550</td>\n",
              "      <td>25364</td>\n",
              "    </tr>\n",
              "    <tr>\n",
              "      <th>Food</th>\n",
              "      <th>successful</th>\n",
              "      <td>6085</td>\n",
              "      <td>22054</td>\n",
              "    </tr>\n",
              "  </tbody>\n",
              "</table>\n",
              "</div>"
            ],
            "text/plain": [
              "                           name  total\n",
              "main_category state                   \n",
              "Film & Video  failed      32903  56527\n",
              "              successful  23623  56527\n",
              "Music         successful  24197  45949\n",
              "              failed      21752  45949\n",
              "Publishing    successful  12300  35445\n",
              "              failed      23145  35445\n",
              "Games         successful  12518  28521\n",
              "              failed      16002  28521\n",
              "Technology    successful   6434  27050\n",
              "              failed      20616  27050\n",
              "Art           failed      14130  25641\n",
              "              successful  11510  25641\n",
              "Design        failed      14814  25364\n",
              "              successful  10550  25364\n",
              "Food          successful   6085  22054"
            ]
          },
          "metadata": {
            "tags": []
          },
          "execution_count": 182
        }
      ]
    },
    {
      "cell_type": "code",
      "metadata": {
        "id": "WmpPFloIceHv",
        "colab_type": "code",
        "colab": {
          "base_uri": "https://localhost:8080/",
          "height": 566
        },
        "outputId": "c080f2dd-8985-47e1-ed6f-7cb97aa08cde"
      },
      "source": [
        "cats = projects.category.value_counts().head(15)\n",
        "\n",
        "x = cats.values\n",
        "y = cats.index\n",
        "\n",
        "fig = plt.figure(dpi=150)\n",
        "ax = fig.add_subplot(111)\n",
        "ax = sns.barplot(y=y, x=x, orient='h', palette=\"dark\", alpha=0.8)\n",
        "\n",
        "plt.title('Kickstarter Top 15 Sub-Category Count')\n",
        "plt.show()"
      ],
      "execution_count": 219,
      "outputs": [
        {
          "output_type": "display_data",
          "data": {
            "image/png": "[encoded data removed]",
            "text/plain": [
              "<Figure size 900x600 with 1 Axes>"
            ]
          },
          "metadata": {
            "tags": []
          }
        }
      ]
    },
    {
      "cell_type": "code",
      "metadata": {
        "id": "QnzFKww_vwux",
        "colab_type": "code",
        "colab": {
          "base_uri": "https://localhost:8080/",
          "height": 979
        },
        "outputId": "fa23211a-6c76-482f-af2f-d445dfab8ae6"
      },
      "source": [
        "goals = projects[['main_category', 'goal', 'state']]\n",
        "project_medians = goals.groupby(['main_category', 'state']).median().sort_values('goal', ascending=False)\n",
        "project_medians = project_medians.reset_index() \n",
        "project_medians.columns = ['main_cat', 'state', 'median']\n",
        "project_medians"
      ],
      "execution_count": 271,
      "outputs": [
        {
          "output_type": "execute_result",
          "data": {
            "text/html": [
              "<div>\n",
              "<style scoped>\n",
              "    .dataframe tbody tr th:only-of-type {\n",
              "        vertical-align: middle;\n",
              "    }\n",
              "\n",
              "    .dataframe tbody tr th {\n",
              "        vertical-align: top;\n",
              "    }\n",
              "\n",
              "    .dataframe thead th {\n",
              "        text-align: right;\n",
              "    }\n",
              "</style>\n",
              "<table border=\"1\" class=\"dataframe\">\n",
              "  <thead>\n",
              "    <tr style=\"text-align: right;\">\n",
              "      <th></th>\n",
              "      <th>main_cat</th>\n",
              "      <th>state</th>\n",
              "      <th>median</th>\n",
              "    </tr>\n",
              "  </thead>\n",
              "  <tbody>\n",
              "    <tr>\n",
              "      <th>0</th>\n",
              "      <td>Technology</td>\n",
              "      <td>failed</td>\n",
              "      <td>20000.0</td>\n",
              "    </tr>\n",
              "    <tr>\n",
              "      <th>1</th>\n",
              "      <td>Design</td>\n",
              "      <td>failed</td>\n",
              "      <td>14000.0</td>\n",
              "    </tr>\n",
              "    <tr>\n",
              "      <th>2</th>\n",
              "      <td>Food</td>\n",
              "      <td>failed</td>\n",
              "      <td>12000.0</td>\n",
              "    </tr>\n",
              "    <tr>\n",
              "      <th>3</th>\n",
              "      <td>Games</td>\n",
              "      <td>failed</td>\n",
              "      <td>10000.0</td>\n",
              "    </tr>\n",
              "    <tr>\n",
              "      <th>4</th>\n",
              "      <td>Technology</td>\n",
              "      <td>successful</td>\n",
              "      <td>10000.0</td>\n",
              "    </tr>\n",
              "    <tr>\n",
              "      <th>5</th>\n",
              "      <td>Film &amp; Video</td>\n",
              "      <td>failed</td>\n",
              "      <td>10000.0</td>\n",
              "    </tr>\n",
              "    <tr>\n",
              "      <th>6</th>\n",
              "      <td>Design</td>\n",
              "      <td>successful</td>\n",
              "      <td>8000.0</td>\n",
              "    </tr>\n",
              "    <tr>\n",
              "      <th>7</th>\n",
              "      <td>Food</td>\n",
              "      <td>successful</td>\n",
              "      <td>7500.0</td>\n",
              "    </tr>\n",
              "    <tr>\n",
              "      <th>8</th>\n",
              "      <td>Fashion</td>\n",
              "      <td>failed</td>\n",
              "      <td>6000.0</td>\n",
              "    </tr>\n",
              "    <tr>\n",
              "      <th>9</th>\n",
              "      <td>Publishing</td>\n",
              "      <td>failed</td>\n",
              "      <td>5000.0</td>\n",
              "    </tr>\n",
              "    <tr>\n",
              "      <th>10</th>\n",
              "      <td>Music</td>\n",
              "      <td>failed</td>\n",
              "      <td>5000.0</td>\n",
              "    </tr>\n",
              "    <tr>\n",
              "      <th>11</th>\n",
              "      <td>Fashion</td>\n",
              "      <td>successful</td>\n",
              "      <td>5000.0</td>\n",
              "    </tr>\n",
              "    <tr>\n",
              "      <th>12</th>\n",
              "      <td>Film &amp; Video</td>\n",
              "      <td>successful</td>\n",
              "      <td>5000.0</td>\n",
              "    </tr>\n",
              "    <tr>\n",
              "      <th>13</th>\n",
              "      <td>Theater</td>\n",
              "      <td>failed</td>\n",
              "      <td>5000.0</td>\n",
              "    </tr>\n",
              "    <tr>\n",
              "      <th>14</th>\n",
              "      <td>Comics</td>\n",
              "      <td>failed</td>\n",
              "      <td>5000.0</td>\n",
              "    </tr>\n",
              "    <tr>\n",
              "      <th>15</th>\n",
              "      <td>Games</td>\n",
              "      <td>successful</td>\n",
              "      <td>5000.0</td>\n",
              "    </tr>\n",
              "    <tr>\n",
              "      <th>16</th>\n",
              "      <td>Journalism</td>\n",
              "      <td>failed</td>\n",
              "      <td>5000.0</td>\n",
              "    </tr>\n",
              "    <tr>\n",
              "      <th>17</th>\n",
              "      <td>Dance</td>\n",
              "      <td>failed</td>\n",
              "      <td>4500.0</td>\n",
              "    </tr>\n",
              "    <tr>\n",
              "      <th>18</th>\n",
              "      <td>Photography</td>\n",
              "      <td>failed</td>\n",
              "      <td>4500.0</td>\n",
              "    </tr>\n",
              "    <tr>\n",
              "      <th>19</th>\n",
              "      <td>Art</td>\n",
              "      <td>failed</td>\n",
              "      <td>4000.0</td>\n",
              "    </tr>\n",
              "    <tr>\n",
              "      <th>20</th>\n",
              "      <td>Music</td>\n",
              "      <td>successful</td>\n",
              "      <td>3150.0</td>\n",
              "    </tr>\n",
              "    <tr>\n",
              "      <th>21</th>\n",
              "      <td>Journalism</td>\n",
              "      <td>successful</td>\n",
              "      <td>3000.0</td>\n",
              "    </tr>\n",
              "    <tr>\n",
              "      <th>22</th>\n",
              "      <td>Photography</td>\n",
              "      <td>successful</td>\n",
              "      <td>3000.0</td>\n",
              "    </tr>\n",
              "    <tr>\n",
              "      <th>23</th>\n",
              "      <td>Dance</td>\n",
              "      <td>successful</td>\n",
              "      <td>3000.0</td>\n",
              "    </tr>\n",
              "    <tr>\n",
              "      <th>24</th>\n",
              "      <td>Publishing</td>\n",
              "      <td>successful</td>\n",
              "      <td>3000.0</td>\n",
              "    </tr>\n",
              "    <tr>\n",
              "      <th>25</th>\n",
              "      <td>Crafts</td>\n",
              "      <td>failed</td>\n",
              "      <td>3000.0</td>\n",
              "    </tr>\n",
              "    <tr>\n",
              "      <th>26</th>\n",
              "      <td>Comics</td>\n",
              "      <td>successful</td>\n",
              "      <td>2650.0</td>\n",
              "    </tr>\n",
              "    <tr>\n",
              "      <th>27</th>\n",
              "      <td>Theater</td>\n",
              "      <td>successful</td>\n",
              "      <td>2500.0</td>\n",
              "    </tr>\n",
              "    <tr>\n",
              "      <th>28</th>\n",
              "      <td>Art</td>\n",
              "      <td>successful</td>\n",
              "      <td>2000.0</td>\n",
              "    </tr>\n",
              "    <tr>\n",
              "      <th>29</th>\n",
              "      <td>Crafts</td>\n",
              "      <td>successful</td>\n",
              "      <td>1000.0</td>\n",
              "    </tr>\n",
              "  </tbody>\n",
              "</table>\n",
              "</div>"
            ],
            "text/plain": [
              "        main_cat       state   median\n",
              "0     Technology      failed  20000.0\n",
              "1         Design      failed  14000.0\n",
              "2           Food      failed  12000.0\n",
              "3          Games      failed  10000.0\n",
              "4     Technology  successful  10000.0\n",
              "5   Film & Video      failed  10000.0\n",
              "6         Design  successful   8000.0\n",
              "7           Food  successful   7500.0\n",
              "8        Fashion      failed   6000.0\n",
              "9     Publishing      failed   5000.0\n",
              "10         Music      failed   5000.0\n",
              "11       Fashion  successful   5000.0\n",
              "12  Film & Video  successful   5000.0\n",
              "13       Theater      failed   5000.0\n",
              "14        Comics      failed   5000.0\n",
              "15         Games  successful   5000.0\n",
              "16    Journalism      failed   5000.0\n",
              "17         Dance      failed   4500.0\n",
              "18   Photography      failed   4500.0\n",
              "19           Art      failed   4000.0\n",
              "20         Music  successful   3150.0\n",
              "21    Journalism  successful   3000.0\n",
              "22   Photography  successful   3000.0\n",
              "23         Dance  successful   3000.0\n",
              "24    Publishing  successful   3000.0\n",
              "25        Crafts      failed   3000.0\n",
              "26        Comics  successful   2650.0\n",
              "27       Theater  successful   2500.0\n",
              "28           Art  successful   2000.0\n",
              "29        Crafts  successful   1000.0"
            ]
          },
          "metadata": {
            "tags": []
          },
          "execution_count": 271
        }
      ]
    },
    {
      "cell_type": "code",
      "metadata": {
        "id": "6kGOE6zU2y0p",
        "colab_type": "code",
        "colab": {}
      },
      "source": [
        "# totals = projects[['main_category', 'ID']].groupby(['main_category']).count().sort_values('ID', ascending=False)\n",
        "# totals.reset_index(inplace=True)\n",
        "# totals.columns = ['main_cat', 'count']\n",
        "\n",
        "# project_medians['median'] = project_medians['median'].astype('int64')\n",
        "\n",
        "# joined = totals.join(project_medians, on='main_cat')\n",
        "# joined\n"
      ],
      "execution_count": 0,
      "outputs": []
    },
    {
      "cell_type": "code",
      "metadata": {
        "id": "OdizO5XUeuv5",
        "colab_type": "code",
        "colab": {}
      },
      "source": [
        "projects['length_days'] = (pd.to_datetime(projects['deadline']) - pd.to_datetime(projects['launched'])).dt.days + 1"
      ],
      "execution_count": 0,
      "outputs": []
    },
    {
      "cell_type": "code",
      "metadata": {
        "id": "oHoYvCOLexzi",
        "colab_type": "code",
        "outputId": "72a6725f-f669-438d-d9d1-294db65af323",
        "colab": {
          "base_uri": "https://localhost:8080/",
          "height": 51
        }
      },
      "source": [
        "print('Mean days for failed projects: {0}'\n",
        "      .format(round(projects[projects['state'] == 'failed']['length_days'].mean(), 2)))\n",
        "print('Mean days for successful projects: {0}'\n",
        "      .format(round(projects[projects['state'] == 'successful']['length_days'].mean(), 2)))"
      ],
      "execution_count": 299,
      "outputs": [
        {
          "output_type": "stream",
          "text": [
            "Mean days for failed projects: 35.17\n",
            "Mean days for successful projects: 32.16\n"
          ],
          "name": "stdout"
        }
      ]
    },
    {
      "cell_type": "code",
      "metadata": {
        "id": "jDgfJoQtp5CH",
        "colab_type": "code",
        "colab": {}
      },
      "source": [
        "# Selecting features\n",
        "projects_data = projects[['state', 'main_category', 'country', 'usd_goal_real']]\n",
        "\n",
        "# Modifing value of dependent variable from categorical to numerical\n",
        "projects_data.loc[projects_data['state'] == 'failed', 'state'] = 0\n",
        "projects_data.loc[projects_data['state'] == 'successful', 'state'] = 1\n",
        "\n",
        "# Scaling goal amount since it behaves differently in each category\n",
        "for cat in projects_data['main_category'].unique():\n",
        "    scaler = StandardScaler()\n",
        "    new_values = scaler.fit_transform(projects_data[projects_data['main_category'] == cat][['usd_goal_real']])\n",
        "    projects_data.loc[projects['main_category'] == cat, 'usd_goal_real'] = new_values.transpose()[0]\n",
        "\n",
        "# Modifing independent variables to dummies\n",
        "projects_data = pd.get_dummies(projects_data)"
      ],
      "execution_count": 0,
      "outputs": []
    },
    {
      "cell_type": "code",
      "metadata": {
        "id": "v5mERrGCp8Q2",
        "colab_type": "code",
        "colab": {
          "base_uri": "https://localhost:8080/",
          "height": 102
        },
        "outputId": "3e32713c-bde7-467e-c3d4-9dfa5b809d44"
      },
      "source": [
        "# Spliting data\n",
        "train_X, test_X, train_y, test_y = train_test_split(projects_data.drop('state', axis=1), projects_data['state'], \n",
        "                                                    test_size=0.1, random_state=7)\n",
        "\n",
        "# Creating model\n",
        "LR = LogisticRegression()\n",
        "\n",
        "# Fitting model\n",
        "LR.fit(train_X, train_y)\n",
        "\n",
        "# Scoring\n",
        "print(\"Model's accuracy is {0}%\".format(round(LR.score(test_X, test_y)*100, 2)))"
      ],
      "execution_count": 16,
      "outputs": [
        {
          "output_type": "stream",
          "text": [
            "Model's accuracy is 65.39%\n"
          ],
          "name": "stdout"
        },
        {
          "output_type": "stream",
          "text": [
            "/usr/local/lib/python3.6/dist-packages/sklearn/linear_model/logistic.py:432: FutureWarning:\n",
            "\n",
            "Default solver will be changed to 'lbfgs' in 0.22. Specify a solver to silence this warning.\n",
            "\n"
          ],
          "name": "stderr"
        }
      ]
    },
    {
      "cell_type": "code",
      "metadata": {
        "id": "u5GW0gMGqe7o",
        "colab_type": "code",
        "colab": {
          "base_uri": "https://localhost:8080/",
          "height": 119
        },
        "outputId": "a13ef4f3-9d33-4081-825b-e5f24a84e8ba"
      },
      "source": [
        "from_largest = np.argsort(LR.coef_)[0][::-1]\n",
        "positive_coef_inds = []\n",
        "for index in from_largest:\n",
        "    if LR.coef_[0][index] > 0:\n",
        "        positive_coef_inds.append(index)\n",
        "    else:\n",
        "        break\n",
        "print(train_X.iloc[:, positive_coef_inds].columns)"
      ],
      "execution_count": 301,
      "outputs": [
        {
          "output_type": "stream",
          "text": [
            "Index(['main_category_Theater', 'country_HK', 'main_category_Dance',\n",
            "       'main_category_Comics', 'country_N,0\"', 'main_category_Music',\n",
            "       'country_SG', 'country_US', 'country_GB', 'country_BE', 'country_CH',\n",
            "       'main_category_Art', 'country_IE', 'country_CA', 'main_category_Games',\n",
            "       'main_category_Film & Video', 'main_category_Design'],\n",
            "      dtype='object')\n"
          ],
          "name": "stdout"
        }
      ]
    },
    {
      "cell_type": "code",
      "metadata": {
        "id": "_XE4w28HqkHM",
        "colab_type": "code",
        "colab": {
          "base_uri": "https://localhost:8080/",
          "height": 34
        },
        "outputId": "ceed653a-7c41-479b-b172-2a538bbf9269"
      },
      "source": [
        "print(train_X.iloc[:, np.argmin(LR.coef_[0])].name)"
      ],
      "execution_count": 302,
      "outputs": [
        {
          "output_type": "stream",
          "text": [
            "usd_goal_real\n"
          ],
          "name": "stdout"
        }
      ]
    }
  ]
}